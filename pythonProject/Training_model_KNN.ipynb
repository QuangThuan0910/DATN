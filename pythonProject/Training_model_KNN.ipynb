{
  "nbformat": 4,
  "nbformat_minor": 0,
  "metadata": {
    "colab": {
      "provenance": []
    },
    "kernelspec": {
      "name": "python3",
      "display_name": "Python 3"
    },
    "language_info": {
      "name": "python"
    }
  },
  "cells": [
    {
      "cell_type": "code",
      "execution_count": null,
      "metadata": {
        "id": "y2q5NKbTV8rg"
      },
      "outputs": [],
      "source": [
        "  # pip install yfinance"
      ]
    },
    {
      "cell_type": "code",
      "source": [
        "import yfinance as yf"
      ],
      "metadata": {
        "id": "aGMSlLtFWCh0"
      },
      "execution_count": 1,
      "outputs": []
    },
    {
      "cell_type": "code",
      "source": [
        "from datetime import datetime\n",
        "end = datetime.now()\n",
        "start = datetime(end.year-20, end.month, end.day)"
      ],
      "metadata": {
        "id": "bJiIRvKPWGct"
      },
      "execution_count": 2,
      "outputs": []
    },
    {
      "cell_type": "code",
      "source": [
        "stock = \"GOOG\"\n",
        "google_data = yf.download(stock, start, end)"
      ],
      "metadata": {
        "colab": {
          "base_uri": "https://localhost:8080/"
        },
        "id": "qr85F-0BWJ_4",
        "outputId": "f8bd3cce-7614-4886-acc9-9a24fa387a02"
      },
      "execution_count": 3,
      "outputs": [
        {
          "output_type": "stream",
          "name": "stderr",
          "text": [
            "\r[*********************100%%**********************]  1 of 1 completed\n"
          ]
        }
      ]
    },
    {
      "cell_type": "code",
      "source": [
        "from sklearn.model_selection import train_test_split\n",
        "from sklearn.preprocessing import StandardScaler\n",
        "from sklearn.neighbors import KNeighborsClassifier\n",
        "\n",
        "# Giả sử chỉ sử dụng giá đóng cửa\n",
        "X = google_data[['Adj Close']]  # Đặc điểm\n",
        "y = (google_data['Adj Close'].shift(-1) > google_data['Adj Close']).astype(int)  # Nhãn\n",
        "\n",
        "# Loại bỏ giá trị NaN cuối cùng trong `y` và giá trị tương ứng trong `X`\n",
        "X = X.iloc[:-1]  # Loại bỏ dòng cuối cùng của X\n",
        "\n",
        "\n",
        "\n",
        "X_train, X_test, y_train, y_test = train_test_split(X, y[:-1], test_size=0.3, random_state=42)\n",
        "\n",
        "scaler = StandardScaler()\n",
        "X_train = scaler.fit_transform(X_train)\n",
        "X_test = scaler.transform(X_test)\n",
        "\n",
        "knn = KNeighborsClassifier(n_neighbors=5)\n",
        "knn.fit(X_train, y_train)\n",
        "y_pred = knn.predict(X_test)\n",
        "\n",
        "accuracy = knn.score(X_test, y_test)\n"
      ],
      "metadata": {
        "id": "582VOM1DWNUz"
      },
      "execution_count": 14,
      "outputs": []
    },
    {
      "cell_type": "code",
      "source": [
        "print(f\"Độ chính xác của mô hình sử dụng thuật toán KNN là: {accuracy*100:.2f}%\")"
      ],
      "metadata": {
        "colab": {
          "base_uri": "https://localhost:8080/"
        },
        "id": "-gwJDmz0hKtN",
        "outputId": "cc4f4fd2-5371-4832-8119-9ae3883e4274"
      },
      "execution_count": 16,
      "outputs": [
        {
          "output_type": "stream",
          "name": "stdout",
          "text": [
            "Độ chính xác của mô hình sử dụng thuật toán KNN là: 49.46%\n"
          ]
        }
      ]
    }
  ]
}