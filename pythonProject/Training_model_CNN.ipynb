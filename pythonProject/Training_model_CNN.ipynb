{
  "nbformat": 4,
  "nbformat_minor": 0,
  "metadata": {
    "colab": {
      "provenance": []
    },
    "kernelspec": {
      "name": "python3",
      "display_name": "Python 3"
    },
    "language_info": {
      "name": "python"
    }
  },
  "cells": [
    {
      "cell_type": "code",
      "execution_count": 2,
      "metadata": {
        "id": "PXOvhq7XjocF"
      },
      "outputs": [],
      "source": [
        "import yfinance as yf"
      ]
    },
    {
      "cell_type": "code",
      "source": [
        "from datetime import datetime\n",
        "end = datetime.now()\n",
        "start = datetime(end.year-20, end.month, end.day)"
      ],
      "metadata": {
        "id": "CMfWlZ6GkJxD"
      },
      "execution_count": 3,
      "outputs": []
    },
    {
      "cell_type": "code",
      "source": [
        "stock = \"GOOG\"\n",
        "google_data = yf.download(stock, start, end)"
      ],
      "metadata": {
        "colab": {
          "base_uri": "https://localhost:8080/"
        },
        "id": "rrw3Bsx0kND_",
        "outputId": "d5007d7a-6e8b-457f-99ba-a14572bfdc72"
      },
      "execution_count": 4,
      "outputs": [
        {
          "output_type": "stream",
          "name": "stderr",
          "text": [
            "\r[*********************100%%**********************]  1 of 1 completed\n"
          ]
        }
      ]
    },
    {
      "cell_type": "code",
      "source": [
        "import numpy as np\n",
        "\n",
        "# Tính toán giá trị trung bình của mỗi ngày (giả định đơn giản)\n",
        "google_data['Average'] = (google_data['High'] + google_data['Low']) / 2\n",
        "\n",
        "# Chuẩn hóa dữ liệu\n",
        "from sklearn.preprocessing import MinMaxScaler\n",
        "scaler = MinMaxScaler()\n",
        "data_scaled = scaler.fit_transform(google_data[['Average']])\n",
        "\n",
        "# Tạo cửa sổ dữ liệu\n",
        "def create_sequences(data, seq_length):\n",
        "    xs = []\n",
        "    ys = []\n",
        "    for i in range(len(data)-seq_length-1):\n",
        "        x = data[i:(i+seq_length)]\n",
        "        y = data[i+seq_length]\n",
        "        xs.append(x)\n",
        "        ys.append(y)\n",
        "    return np.array(xs), np.array(ys)\n",
        "\n",
        "seq_length = 10\n",
        "X, y = create_sequences(data_scaled, seq_length)\n"
      ],
      "metadata": {
        "id": "ykrloIgDkPsR"
      },
      "execution_count": 5,
      "outputs": []
    },
    {
      "cell_type": "code",
      "source": [
        "from keras.models import Sequential\n",
        "from keras.layers import Conv1D, MaxPooling1D, Dense, Flatten\n",
        "\n",
        "model = Sequential()\n",
        "model.add(Conv1D(filters=64, kernel_size=2, activation='relu', input_shape=(seq_length, 1)))\n",
        "model.add(MaxPooling1D(pool_size=2))\n",
        "model.add(Flatten())\n",
        "model.add(Dense(50, activation='relu'))\n",
        "model.add(Dense(1))\n",
        "model.compile(optimizer='adam', loss='mse')"
      ],
      "metadata": {
        "id": "Im_91FXjke7L"
      },
      "execution_count": 6,
      "outputs": []
    },
    {
      "cell_type": "code",
      "source": [
        "# Chia dữ liệu thành tập huấn luyện và kiểm tra\n",
        "from sklearn.model_selection import train_test_split\n",
        "\n",
        "X_train, X_test, y_train, y_test = train_test_split(X, y, test_size=0.3, random_state=0)\n",
        "\n",
        "# Huấn luyện mô hình\n",
        "history = model.fit(X_train, y_train, epochs=30, verbose=1, validation_data=(X_test, y_test))"
      ],
      "metadata": {
        "colab": {
          "base_uri": "https://localhost:8080/"
        },
        "id": "AhEB3P6dkizE",
        "outputId": "ea4cf9ee-e153-4b67-9226-db6979bbf87b"
      },
      "execution_count": 26,
      "outputs": [
        {
          "output_type": "stream",
          "name": "stdout",
          "text": [
            "Epoch 1/30\n",
            "109/109 [==============================] - 0s 4ms/step - loss: 9.1994e-05 - val_loss: 9.7753e-05\n",
            "Epoch 2/30\n",
            "109/109 [==============================] - 0s 3ms/step - loss: 9.0491e-05 - val_loss: 7.8617e-05\n",
            "Epoch 3/30\n",
            "109/109 [==============================] - 1s 5ms/step - loss: 9.1449e-05 - val_loss: 8.5478e-05\n",
            "Epoch 4/30\n",
            "109/109 [==============================] - 1s 6ms/step - loss: 1.0337e-04 - val_loss: 8.2275e-05\n",
            "Epoch 5/30\n",
            "109/109 [==============================] - 1s 6ms/step - loss: 8.5143e-05 - val_loss: 7.4511e-05\n",
            "Epoch 6/30\n",
            "109/109 [==============================] - 1s 6ms/step - loss: 8.5504e-05 - val_loss: 7.5324e-05\n",
            "Epoch 7/30\n",
            "109/109 [==============================] - 1s 8ms/step - loss: 9.7850e-05 - val_loss: 8.3219e-05\n",
            "Epoch 8/30\n",
            "109/109 [==============================] - 1s 5ms/step - loss: 1.0101e-04 - val_loss: 8.5021e-05\n",
            "Epoch 9/30\n",
            "109/109 [==============================] - 0s 4ms/step - loss: 9.0688e-05 - val_loss: 1.1201e-04\n",
            "Epoch 10/30\n",
            "109/109 [==============================] - 0s 4ms/step - loss: 8.6456e-05 - val_loss: 8.1634e-05\n",
            "Epoch 11/30\n",
            "109/109 [==============================] - 0s 4ms/step - loss: 9.6545e-05 - val_loss: 8.2521e-05\n",
            "Epoch 12/30\n",
            "109/109 [==============================] - 0s 4ms/step - loss: 8.4954e-05 - val_loss: 7.9225e-05\n",
            "Epoch 13/30\n",
            "109/109 [==============================] - 0s 4ms/step - loss: 8.6373e-05 - val_loss: 7.7717e-05\n",
            "Epoch 14/30\n",
            "109/109 [==============================] - 0s 4ms/step - loss: 9.3172e-05 - val_loss: 8.0909e-05\n",
            "Epoch 15/30\n",
            "109/109 [==============================] - 1s 7ms/step - loss: 8.9557e-05 - val_loss: 1.0103e-04\n",
            "Epoch 16/30\n",
            "109/109 [==============================] - 1s 6ms/step - loss: 9.2556e-05 - val_loss: 9.9386e-05\n",
            "Epoch 17/30\n",
            "109/109 [==============================] - 1s 7ms/step - loss: 8.9100e-05 - val_loss: 9.1551e-05\n",
            "Epoch 18/30\n",
            "109/109 [==============================] - 1s 6ms/step - loss: 8.6347e-05 - val_loss: 1.0799e-04\n",
            "Epoch 19/30\n",
            "109/109 [==============================] - 1s 5ms/step - loss: 9.5504e-05 - val_loss: 7.5354e-05\n",
            "Epoch 20/30\n",
            "109/109 [==============================] - 1s 6ms/step - loss: 8.6860e-05 - val_loss: 8.5003e-05\n",
            "Epoch 21/30\n",
            "109/109 [==============================] - 0s 3ms/step - loss: 9.4356e-05 - val_loss: 8.4913e-05\n",
            "Epoch 22/30\n",
            "109/109 [==============================] - 0s 3ms/step - loss: 9.5821e-05 - val_loss: 7.7273e-05\n",
            "Epoch 23/30\n",
            "109/109 [==============================] - 0s 3ms/step - loss: 8.8488e-05 - val_loss: 8.3066e-05\n",
            "Epoch 24/30\n",
            "109/109 [==============================] - 0s 4ms/step - loss: 9.2144e-05 - val_loss: 9.5761e-05\n",
            "Epoch 25/30\n",
            "109/109 [==============================] - 0s 4ms/step - loss: 8.7817e-05 - val_loss: 8.2364e-05\n",
            "Epoch 26/30\n",
            "109/109 [==============================] - 0s 4ms/step - loss: 9.4477e-05 - val_loss: 7.5460e-05\n",
            "Epoch 27/30\n",
            "109/109 [==============================] - 1s 5ms/step - loss: 8.7959e-05 - val_loss: 8.8633e-05\n",
            "Epoch 28/30\n",
            "109/109 [==============================] - 1s 5ms/step - loss: 8.7897e-05 - val_loss: 9.0291e-05\n",
            "Epoch 29/30\n",
            "109/109 [==============================] - 1s 6ms/step - loss: 1.0632e-04 - val_loss: 9.1181e-05\n",
            "Epoch 30/30\n",
            "109/109 [==============================] - 1s 6ms/step - loss: 9.6004e-05 - val_loss: 7.7528e-05\n"
          ]
        }
      ]
    },
    {
      "cell_type": "code",
      "source": [
        "predictions = model.predict(X_test)"
      ],
      "metadata": {
        "colab": {
          "base_uri": "https://localhost:8080/"
        },
        "id": "P22_lvwClYUE",
        "outputId": "0bf40363-f124-4403-a8ca-d8e92fd67943"
      },
      "execution_count": 28,
      "outputs": [
        {
          "output_type": "stream",
          "name": "stdout",
          "text": [
            "47/47 [==============================] - 0s 2ms/step\n"
          ]
        }
      ]
    },
    {
      "cell_type": "code",
      "source": [
        "# Giả sử y_test là mảng chứa giá trị thực và predictions là kết quả dự đoán từ mô hình\n",
        "accuracy_threshold = 0.05  # 5%\n",
        "correct_predictions = np.abs(predictions.flatten() - y_test) <= accuracy_threshold * y_test\n",
        "accuracy = np.mean(correct_predictions)\n",
        "print(f\"Độ chính xác trong ngưỡng {accuracy_threshold*100}%: {accuracy*100:.2f}%\")"
      ],
      "metadata": {
        "colab": {
          "base_uri": "https://localhost:8080/"
        },
        "id": "iLUEhm35kpLk",
        "outputId": "1a4c46f2-1ba6-47f3-898b-c3394e11de0d"
      },
      "execution_count": 29,
      "outputs": [
        {
          "output_type": "stream",
          "name": "stdout",
          "text": [
            "Độ chính xác trong ngưỡng 5.0%: 3.52%\n"
          ]
        }
      ]
    }
  ]
}